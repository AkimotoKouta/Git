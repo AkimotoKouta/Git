{
 "cells": [
  {
   "cell_type": "markdown",
   "metadata": {},
   "source": [
    "# 経営情報分析特論\n",
    "### 単回帰分析するよ"
   ]
  },
  {
   "cell_type": "code",
   "execution_count": null,
   "metadata": {},
   "outputs": [],
   "source": [
    "import numpy as np\n",
    "import matplotlib.pyplot as plt\n",
    "\n",
    "#誤差項の生成\n",
    "random = np.random.normal(0, 500, 100)\n",
    "\n",
    "#データの生成\n",
    "x = np.random.rand(100)*50\n",
    "y = x*100+1000\n",
    "y = y+random\n",
    "\n",
    "#平均\n",
    "x_bar = sum(x)/len(x)\n",
    "y_bar = sum(y)/len(y)\n",
    "\n",
    "#係数の推定\n",
    "b1_hat = sum([(x[i]-x_bar)*(y[i]-y_bar) for i in range(len(x))])/sum([(x[i]-x_bar)**2 for i in range(len(x))])\n",
    "b0_hat = y_bar-b1_hat*x_bar\n",
    "\n",
    "#データと直線の表示\n",
    "plt.plot(x, y,\".\")\n",
    "plt.plot([0, 50], [b0_hat, b1_hat*50+b0_hat],\"-\")\n",
    "\n",
    "plt.show()\n",
    "\n",
    "print(b1_hat, b0_hat)"
   ]
  },
  {
   "cell_type": "code",
   "execution_count": null,
   "metadata": {},
   "outputs": [],
   "source": []
  },
  {
   "cell_type": "code",
   "execution_count": null,
   "metadata": {},
   "outputs": [],
   "source": []
  }
 ],
 "metadata": {
  "kernelspec": {
   "display_name": "Python 3",
   "language": "python",
   "name": "python3"
  },
  "language_info": {
   "codemirror_mode": {
    "name": "ipython",
    "version": 3
   },
   "file_extension": ".py",
   "mimetype": "text/x-python",
   "name": "python",
   "nbconvert_exporter": "python",
   "pygments_lexer": "ipython3",
   "version": "3.7.3"
  }
 },
 "nbformat": 4,
 "nbformat_minor": 2
}
