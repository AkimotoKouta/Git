{
 "cells": [
  {
   "cell_type": "code",
   "execution_count": 11,
   "metadata": {},
   "outputs": [],
   "source": [
    "import numpy as np\n",
    "import soundfile as sf\n",
    "import librosa\n",
    "\n",
    "x, fs = sf.read('none.wav')\n",
    "x = x.repeat(10)[:441000]\n",
    "none_mfccs = librosa.feature.mfcc(x, sr=fs)\n",
    "none_mfccs = np.vstack((np.ones((1,862))*0, none_mfccs)).T\n",
    "\n",
    "x, fs = sf.read('up.wav')\n",
    "x = x.repeat(10)[:441000]\n",
    "up_mfccs = librosa.feature.mfcc(x, sr=fs)\n",
    "up_mfccs = np.vstack((np.ones((1,862))*1, up_mfccs)).T\n",
    "\n",
    "x, fs = sf.read('down.wav')\n",
    "x = x.repeat(10)[:441000]\n",
    "down_mfccs = librosa.feature.mfcc(x, sr=fs)\n",
    "down_mfccs = np.vstack((np.ones((1,862))*2, down_mfccs)).T\n",
    "\n",
    "data = np.vstack([none_mfccs, up_mfccs, down_mfccs])"
   ]
  },
  {
   "cell_type": "code",
   "execution_count": 12,
   "metadata": {},
   "outputs": [],
   "source": [
    "from sklearn.model_selection import train_test_split\n",
    "\n",
    "X_train, X_test, y_train, y_test = train_test_split(X, y, test_size=0.3, random_state=42, stratify = y)"
   ]
  },
  {
   "cell_type": "code",
   "execution_count": 13,
   "metadata": {},
   "outputs": [
    {
     "name": "stdout",
     "output_type": "stream",
     "text": [
      "Fitting 4 folds for each of 12 candidates, totalling 48 fits\n"
     ]
    },
    {
     "name": "stderr",
     "output_type": "stream",
     "text": [
      "[Parallel(n_jobs=1)]: Using backend SequentialBackend with 1 concurrent workers.\n",
      "[Parallel(n_jobs=1)]: Done  48 out of  48 | elapsed:    4.3s finished\n"
     ]
    },
    {
     "data": {
      "text/plain": [
       "GridSearchCV(cv=StratifiedKFold(n_splits=4, random_state=None, shuffle=False),\n",
       "             error_score='raise-deprecating',\n",
       "             estimator=SVC(C=10, cache_size=200, class_weight=None, coef0=0.0,\n",
       "                           decision_function_shape='ovr', degree=3,\n",
       "                           gamma='auto_deprecated', kernel='rbf', max_iter=-1,\n",
       "                           probability=False, random_state=None, shrinking=True,\n",
       "                           tol=0.001, verbose=False),\n",
       "             iid='warn', n_jobs=None,\n",
       "             param_grid={'C': [1, 10, 100, 1000], 'gamma': [0.1, 0.01, 0.001]},\n",
       "             pre_dispatch='2*n_jobs', refit=True, return_train_score=False,\n",
       "             scoring=None, verbose=1)"
      ]
     },
     "execution_count": 13,
     "metadata": {},
     "output_type": "execute_result"
    }
   ],
   "source": [
    "from sklearn.model_selection import GridSearchCV, StratifiedKFold\n",
    "from sklearn.svm import SVC\n",
    "SKfold = StratifiedKFold(n_splits=4)\n",
    "\n",
    "param_grid = {\"C\" : [1, 10, 100, 1000], \"gamma\" : [0.1, 0.01, 0.001]}\n",
    "\n",
    "svm_gs = GridSearchCV(SVC(C=10, kernel=\"rbf\"), param_grid, cv=SKfold, verbose=1)\n",
    "svm_gs.fit(X_train,y_train)"
   ]
  },
  {
   "cell_type": "code",
   "execution_count": 14,
   "metadata": {},
   "outputs": [
    {
     "name": "stdout",
     "output_type": "stream",
     "text": [
      "{'C': 1, 'gamma': 0.001}\n",
      "0.9408839779005524\n"
     ]
    }
   ],
   "source": [
    "print(svm_gs.best_params_)\n",
    "print(svm_gs.best_score_)\n",
    "svm_clf=svm_gs.best_estimator_"
   ]
  },
  {
   "cell_type": "code",
   "execution_count": 15,
   "metadata": {},
   "outputs": [
    {
     "data": {
      "text/plain": [
       "SVC(C=1, cache_size=200, class_weight=None, coef0=0.0,\n",
       "    decision_function_shape='ovr', degree=3, gamma=0.001, kernel='rbf',\n",
       "    max_iter=-1, probability=False, random_state=None, shrinking=True,\n",
       "    tol=0.001, verbose=False)"
      ]
     },
     "execution_count": 15,
     "metadata": {},
     "output_type": "execute_result"
    }
   ],
   "source": [
    "svm_clf.fit(X_train, y_train)"
   ]
  },
  {
   "cell_type": "code",
   "execution_count": 16,
   "metadata": {},
   "outputs": [
    {
     "name": "stdout",
     "output_type": "stream",
     "text": [
      "Train accuracy 0.967403314917127\n",
      "Test accuracy 0.9497422680412371\n"
     ]
    }
   ],
   "source": [
    "print(\"Train accuracy\",svm_clf.score(X_train, y_train))\n",
    "print(\"Test accuracy\",svm_clf.score(X_test, y_test))"
   ]
  },
  {
   "cell_type": "code",
   "execution_count": 17,
   "metadata": {},
   "outputs": [
    {
     "name": "stdout",
     "output_type": "stream",
     "text": [
      "float64\n"
     ]
    },
    {
     "data": {
      "text/plain": [
       "array([[257,   0,   0],\n",
       "       [  0, 244,  23],\n",
       "       [  1,  15, 236]])"
      ]
     },
     "execution_count": 17,
     "metadata": {},
     "output_type": "execute_result"
    }
   ],
   "source": [
    "from sklearn.metrics import confusion_matrix\n",
    "pred = svm_clf.predict(X_test)\n",
    "print(X_test[0].dtype)\n",
    "confusion_matrix(pred, y_test)"
   ]
  },
  {
   "cell_type": "code",
   "execution_count": 19,
   "metadata": {
    "scrolled": true
   },
   "outputs": [
    {
     "name": "stdout",
     "output_type": "stream",
     "text": [
      "[0. 0. 0. 0. 0. 0. 0. 0. 0. 0.]\n",
      "[2.]\n",
      "[0.00021362 0.00021362 0.00018311 0.00015259 0.00021362 0.00012207\n",
      " 0.00012207 0.00012207 0.00012207 0.00024414]\n",
      "[2.]\n",
      "[-0.00015259 -0.00012207 -0.00018311 -0.00018311 -0.00018311 -0.00018311\n",
      " -0.00018311 -0.00015259 -0.00015259 -0.00018311]\n",
      "[2.]\n",
      "[-0.00073242 -0.00079346 -0.00082397 -0.00085449 -0.00085449 -0.00085449\n",
      " -0.00079346 -0.0007019  -0.00073242 -0.0007019 ]\n",
      "[2.]\n",
      "[0.00234985 0.00216675 0.00204468 0.00219727 0.00213623 0.00198364\n",
      " 0.0020752  0.00213623 0.0020752  0.00216675]\n",
      "[2.]\n",
      "[0.00241089 0.00222778 0.00204468 0.00177002 0.00146484 0.0012207\n",
      " 0.00097656 0.00073242 0.00054932 0.00030518]\n",
      "[2.]\n",
      "[-0.00982666 -0.00970459 -0.00952148 -0.00927734 -0.00894165 -0.0085144\n",
      " -0.00796509 -0.00741577 -0.00680542 -0.00619507]\n",
      "[2.]\n",
      "[-0.05245972 -0.05206299 -0.05111694 -0.04980469 -0.04827881 -0.04672241\n",
      " -0.04534912 -0.04412842 -0.04318237 -0.04251099]\n",
      "[2.]\n",
      "[0.02380371 0.02682495 0.02215576 0.01855469 0.0229187  0.02282715\n",
      " 0.01565552 0.01580811 0.02142334 0.02523804]\n",
      "[2.]\n",
      "[0.00146484 0.00372314 0.00567627 0.00720215 0.00830078 0.00918579\n",
      " 0.00942993 0.00939941 0.00961304 0.01019287]\n",
      "[2.]\n"
     ]
    },
    {
     "ename": "KeyboardInterrupt",
     "evalue": "",
     "output_type": "error",
     "traceback": [
      "\u001b[0;31m---------------------------------------------------------------------------\u001b[0m",
      "\u001b[0;31mKeyboardInterrupt\u001b[0m                         Traceback (most recent call last)",
      "\u001b[0;32m<ipython-input-19-d3a31c88568a>\u001b[0m in \u001b[0;36m<module>\u001b[0;34m\u001b[0m\n\u001b[1;32m     17\u001b[0m \u001b[0;34m\u001b[0m\u001b[0m\n\u001b[1;32m     18\u001b[0m \u001b[0;32mwhile\u001b[0m \u001b[0mstream\u001b[0m\u001b[0;34m.\u001b[0m\u001b[0mis_active\u001b[0m\u001b[0;34m(\u001b[0m\u001b[0;34m)\u001b[0m\u001b[0;34m:\u001b[0m\u001b[0;34m\u001b[0m\u001b[0;34m\u001b[0m\u001b[0m\n\u001b[0;32m---> 19\u001b[0;31m     \u001b[0mI\u001b[0m \u001b[0;34m=\u001b[0m \u001b[0mstream\u001b[0m\u001b[0;34m.\u001b[0m\u001b[0mread\u001b[0m\u001b[0;34m(\u001b[0m\u001b[0mchunk\u001b[0m\u001b[0;34m)\u001b[0m\u001b[0;34m\u001b[0m\u001b[0;34m\u001b[0m\u001b[0m\n\u001b[0m\u001b[1;32m     20\u001b[0m     \u001b[0;31m# I = 何かしらの処理(I) 処理を加えるときはchunkをいくらか大きくする\u001b[0m\u001b[0;34m\u001b[0m\u001b[0;34m\u001b[0m\u001b[0;34m\u001b[0m\u001b[0m\n\u001b[1;32m     21\u001b[0m     \u001b[0mI\u001b[0m \u001b[0;34m=\u001b[0m \u001b[0mnp\u001b[0m\u001b[0;34m.\u001b[0m\u001b[0mfrombuffer\u001b[0m\u001b[0;34m(\u001b[0m\u001b[0mI\u001b[0m\u001b[0;34m,\u001b[0m \u001b[0mdtype\u001b[0m\u001b[0;34m=\u001b[0m\u001b[0;34m'int16'\u001b[0m\u001b[0;34m)\u001b[0m\u001b[0;34m[\u001b[0m\u001b[0;34m:\u001b[0m\u001b[0;36m1024\u001b[0m\u001b[0;34m]\u001b[0m \u001b[0;34m/\u001b[0m \u001b[0mfloat\u001b[0m\u001b[0;34m(\u001b[0m\u001b[0;36m2\u001b[0m\u001b[0;34m**\u001b[0m\u001b[0;36m15\u001b[0m\u001b[0;34m)\u001b[0m\u001b[0;34m\u001b[0m\u001b[0;34m\u001b[0m\u001b[0m\n",
      "\u001b[0;32m/Library/Frameworks/Python.framework/Versions/3.7/lib/python3.7/site-packages/pyaudio.py\u001b[0m in \u001b[0;36mread\u001b[0;34m(self, num_frames, exception_on_overflow)\u001b[0m\n\u001b[1;32m    606\u001b[0m                           paCanNotReadFromAnOutputOnlyStream)\n\u001b[1;32m    607\u001b[0m \u001b[0;34m\u001b[0m\u001b[0m\n\u001b[0;32m--> 608\u001b[0;31m         \u001b[0;32mreturn\u001b[0m \u001b[0mpa\u001b[0m\u001b[0;34m.\u001b[0m\u001b[0mread_stream\u001b[0m\u001b[0;34m(\u001b[0m\u001b[0mself\u001b[0m\u001b[0;34m.\u001b[0m\u001b[0m_stream\u001b[0m\u001b[0;34m,\u001b[0m \u001b[0mnum_frames\u001b[0m\u001b[0;34m,\u001b[0m \u001b[0mexception_on_overflow\u001b[0m\u001b[0;34m)\u001b[0m\u001b[0;34m\u001b[0m\u001b[0;34m\u001b[0m\u001b[0m\n\u001b[0m\u001b[1;32m    609\u001b[0m \u001b[0;34m\u001b[0m\u001b[0m\n\u001b[1;32m    610\u001b[0m     \u001b[0;32mdef\u001b[0m \u001b[0mget_read_available\u001b[0m\u001b[0;34m(\u001b[0m\u001b[0mself\u001b[0m\u001b[0;34m)\u001b[0m\u001b[0;34m:\u001b[0m\u001b[0;34m\u001b[0m\u001b[0;34m\u001b[0m\u001b[0m\n",
      "\u001b[0;31mKeyboardInterrupt\u001b[0m: "
     ]
    }
   ],
   "source": [
    "import pyaudio\n",
    "\n",
    "last_data = 0\n",
    "\n",
    "chunk = 1024  * 4    #処理の重さによって値を変える\n",
    "sr = 44100 # 小さくしていくと音質が悪くなる\n",
    "speaker = pyaudio.PyAudio()\n",
    "\n",
    "stream = speaker.open(\n",
    "    format=pyaudio.paInt16,\n",
    "    channels=1,\n",
    "    rate=sr,\n",
    "    frames_per_buffer=chunk,\n",
    "    input=True,\n",
    "    output=True\n",
    ")\n",
    "\n",
    "while stream.is_active():\n",
    "    I = stream.read(chunk)\n",
    "    # I = 何かしらの処理(I) 処理を加えるときはchunkをいくらか大きくする\n",
    "    I = np.frombuffer(I, dtype='int16')[:1024] / float(2**15)\n",
    "    print(I[:10])\n",
    "    mfccs = librosa.feature.mfcc(I, sr=44100)\n",
    "    pred = svm_clf.predict(mfccs.T[0].reshape(1,-1))\n",
    "    print(pred) \n",
    "\n",
    "stream.stop_stream()\n",
    "stream.close()\n",
    "speaker.terminate()"
   ]
  }
 ],
 "metadata": {
  "kernelspec": {
   "display_name": "Python 3",
   "language": "python",
   "name": "python3"
  },
  "language_info": {
   "codemirror_mode": {
    "name": "ipython",
    "version": 3
   },
   "file_extension": ".py",
   "mimetype": "text/x-python",
   "name": "python",
   "nbconvert_exporter": "python",
   "pygments_lexer": "ipython3",
   "version": "3.7.3"
  }
 },
 "nbformat": 4,
 "nbformat_minor": 2
}
